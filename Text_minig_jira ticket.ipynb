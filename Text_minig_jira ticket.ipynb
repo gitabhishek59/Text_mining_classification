{
 "cells": [
  {
   "cell_type": "code",
   "execution_count": null,
   "id": "01fba2d2",
   "metadata": {},
   "outputs": [],
   "source": [
    "import pandas as pd\n",
    "import nltk\n",
    "from nltk.corpus import stopwords\n",
    "from nltk.tokenize import word_tokenize\n",
    "from sklearn.feature_extraction.text import CountVectorizer\n",
    "from sklearn.model_selection import train_test_split\n",
    "from sklearn.naive_bayes import MultinomialNB\n",
    "from sklearn.metrics import accuracy_score, classification_report\n",
    "\n",
    "nltk.download('stopwords')\n",
    "nltk.download('punkt')\n",
    "\n",
    "# Load your data into a pandas DataFrame\n",
    "# Assuming your DataFrame is named 'df' and the column with descriptions is named 'description'\n",
    "\n",
    "# Example cleaning function\n",
    "def clean_text(text):\n",
    "    text = text.lower()  # Convert to lowercase\n",
    "    text = text.strip()  # Remove leading/trailing whitespaces\n",
    "    return text\n",
    "\n",
    "# Apply cleaning function to 'description' column\n",
    "df['cleaned_description'] = df['description'].apply(clean_text)\n",
    "\n",
    "# Tokenize text\n",
    "stop_words = set(stopwords.words('english'))\n",
    "df['tokenized_description'] = df['cleaned_description'].apply(lambda x: [word for word in word_tokenize(x) if word not in stop_words])\n"
   ]
  },
  {
   "cell_type": "code",
   "execution_count": null,
   "id": "135eabff",
   "metadata": {},
   "outputs": [],
   "source": []
  },
  {
   "cell_type": "code",
   "execution_count": null,
   "id": "58ced223",
   "metadata": {},
   "outputs": [],
   "source": [
    "# Convert text data into numerical features using Bag of Words (BoW)\n",
    "vectorizer = CountVectorizer()\n",
    "X = vectorizer.fit_transform(df['cleaned_description'])\n",
    "\n",
    "# Define your target labels based on the categories you want to classify\n",
    "# Example:\n",
    "# categories = ['Hadoop', 'Incident', 'Firewall', 'Authentication', 'Access', 'Database']\n",
    "y = df['category_column_name']\n"
   ]
  },
  {
   "cell_type": "code",
   "execution_count": null,
   "id": "03615019",
   "metadata": {},
   "outputs": [],
   "source": [
    "# Split data into training and testing sets\n",
    "X_train, X_test, y_train, y_test = train_test_split(X, y, test_size=0.2, random_state=42)\n"
   ]
  },
  {
   "cell_type": "code",
   "execution_count": null,
   "id": "c78d6585",
   "metadata": {},
   "outputs": [],
   "source": [
    "# Train a Multinomial Naive Bayes classifier\n",
    "classifier = MultinomialNB()\n",
    "classifier.fit(X_train, y_train)\n"
   ]
  },
  {
   "cell_type": "code",
   "execution_count": null,
   "id": "db66ad7e",
   "metadata": {},
   "outputs": [],
   "source": [
    "# Make predictions on the testing set\n",
    "y_pred = classifier.predict(X_test)\n",
    "\n",
    "# Evaluate model performance\n",
    "accuracy = accuracy_score(y_test, y_pred)\n",
    "print(f\"Accuracy: {accuracy}\")\n",
    "\n",
    "# Print classification report\n",
    "print(classification_report(y_test, y_pred))\n"
   ]
  },
  {
   "cell_type": "code",
   "execution_count": null,
   "id": "ffb293d3",
   "metadata": {},
   "outputs": [],
   "source": [
    "# Assuming 'new_ticket' is a new Jira ticket description\n",
    "new_ticket_cleaned = clean_text(new_ticket)\n",
    "new_ticket_vectorized = vectorizer.transform([new_ticket_cleaned])\n",
    "predicted_category = classifier.predict(new_ticket_vectorized)\n",
    "print(f\"Predicted category: {predicted_category}\")\n"
   ]
  },
  {
   "cell_type": "code",
   "execution_count": null,
   "id": "960ad4ad",
   "metadata": {},
   "outputs": [],
   "source": [
    "# Assuming 'predicted_categories' is a list/array containing predicted categories for each ticket\n",
    "# 'categories' is the list of categories you are classifying into\n",
    "\n",
    "from collections import Counter\n",
    "\n",
    "# Count the occurrences of each category\n",
    "category_counts = Counter(predicted_categories)\n",
    "\n",
    "# Print the count of tickets in each category\n",
    "for category in categories:\n",
    "    count = category_counts[category]\n",
    "    print(f\"Category: {category}, Count: {count}\")\n"
   ]
  },
  {
   "cell_type": "code",
   "execution_count": 5,
   "id": "0987cf6f",
   "metadata": {},
   "outputs": [
    {
     "name": "stdout",
     "output_type": "stream",
     "text": [
      "1000\n"
     ]
    }
   ],
   "source": [
    "import pandas as pd\n",
    "import random\n",
    "import string\n",
    "\n",
    "# Generate random ticket IDs and descriptions with specific terms\n",
    "ticket_ids = [f'TICKET-{i}' for i in range(1, 1001)]\n",
    "ticket_descriptions = []\n",
    "\n",
    "for _ in range(1000):\n",
    "    # Generate a random description with specific terms\n",
    "    description = random.choice(['Hadoop', 'Access issues'])\n",
    "    \n",
    "    # Add other random words to the description\n",
    "    other_words = ''.join(random.choices(string.ascii_letters + string.digits, k=random.randint(30, 150)))\n",
    "    \n",
    "    ticket_descriptions.append(f'{description}: {other_words}')\n",
    "\n",
    "# Create a DataFrame\n",
    "data = {'ticket_id': ticket_ids, 'ticket_description': ticket_descriptions}\n",
    "df = pd.DataFrame(data)\n",
    "\n",
    "# Display the first few rows of the DataFrame\n",
    "print(df.shape[0])\n",
    "\n"
   ]
  },
  {
   "cell_type": "code",
   "execution_count": null,
   "id": "533f4d2f",
   "metadata": {},
   "outputs": [],
   "source": []
  }
 ],
 "metadata": {
  "kernelspec": {
   "display_name": "Python 3 (ipykernel)",
   "language": "python",
   "name": "python3"
  },
  "language_info": {
   "codemirror_mode": {
    "name": "ipython",
    "version": 3
   },
   "file_extension": ".py",
   "mimetype": "text/x-python",
   "name": "python",
   "nbconvert_exporter": "python",
   "pygments_lexer": "ipython3",
   "version": "3.11.5"
  }
 },
 "nbformat": 4,
 "nbformat_minor": 5
}
